{
 "cells": [
  {
   "cell_type": "code",
   "execution_count": 1,
   "metadata": {},
   "outputs": [
    {
     "name": "stderr",
     "output_type": "stream",
     "text": [
      "/home/asm/.cache/pypoetry/virtualenvs/pf2barcode-Hbu_9TGN-py3.12/lib/python3.12/site-packages/scanpy/preprocessing/_normalization.py:207: UserWarning: Received a view of an AnnData. Making a copy.\n",
      "  view_to_actual(adata)\n"
     ]
    }
   ],
   "source": [
    "from pf2barcode.imports import import_CCLE\n",
    "from anndata import AnnData\n",
    "import scanpy as sc\n",
    "import pandas as pd\n",
    "\n",
    "X = import_CCLE()\n",
    "\n",
    "# Get rid of cells with no barcode\n",
    "X = X[X.obs[\"SW\"] != \"unknown\"]\n",
    "\n",
    "# remove cells with barcodes having less than 10 cells\n",
    "good_SW = X.obs[\"SW\"].value_counts().index[X.obs[\"SW\"].value_counts() > 10]\n",
    "X = X[X.obs[\"SW\"].isin(good_SW)]"
   ]
  },
  {
   "cell_type": "code",
   "execution_count": 2,
   "metadata": {},
   "outputs": [],
   "source": [
    "pcadata = AnnData(\n",
    "    X.obsm[\"X_pca\"],\n",
    "    obs=X.obs,\n",
    "    var=pd.DataFrame(index=[f\"PC{i}\" for i in range(1, X.obsm[\"X_pca\"].shape[1] + 1)]),\n",
    ")\n",
    "pcadata.X /= pcadata.X.mean(axis=1, keepdims=True)"
   ]
  },
  {
   "cell_type": "markdown",
   "metadata": {},
   "source": [
    "## Stats"
   ]
  },
  {
   "cell_type": "code",
   "execution_count": 6,
   "metadata": {},
   "outputs": [],
   "source": [
    "from scipy.stats import f_oneway\n",
    "\n",
    "comp = pcadata"
   ]
  },
  {
   "cell_type": "code",
   "execution_count": 7,
   "metadata": {},
   "outputs": [
    {
     "ename": "NameError",
     "evalue": "name 'H' is not defined",
     "output_type": "error",
     "traceback": [
      "\u001b[0;31m---------------------------------------------------------------------------\u001b[0m",
      "\u001b[0;31mNameError\u001b[0m                                 Traceback (most recent call last)",
      "Cell \u001b[0;32mIn[7], line 9\u001b[0m\n\u001b[1;32m      1\u001b[0m \u001b[38;5;28;01mfrom\u001b[39;00m \u001b[38;5;21;01mgseapy\u001b[39;00m \u001b[38;5;28;01mimport\u001b[39;00m prerank, dotplot\n\u001b[1;32m      3\u001b[0m geneSets \u001b[38;5;241m=\u001b[39m [\n\u001b[1;32m      4\u001b[0m         \u001b[38;5;124m\"\u001b[39m\u001b[38;5;124mGO_Biological_Process_2021\u001b[39m\u001b[38;5;124m\"\u001b[39m,\n\u001b[1;32m      5\u001b[0m         \u001b[38;5;124m\"\u001b[39m\u001b[38;5;124mGO_Cellular_Component_2021\u001b[39m\u001b[38;5;124m\"\u001b[39m,\n\u001b[1;32m      6\u001b[0m     ]\n\u001b[1;32m      8\u001b[0m df \u001b[38;5;241m=\u001b[39m prerank(\n\u001b[0;32m----> 9\u001b[0m     pd\u001b[38;5;241m.\u001b[39mSeries(\u001b[43mH\u001b[49m[:, \u001b[38;5;241m19\u001b[39m], index\u001b[38;5;241m=\u001b[39mX\u001b[38;5;241m.\u001b[39mvar_names),\n\u001b[1;32m     10\u001b[0m     gene_sets\u001b[38;5;241m=\u001b[39mgeneSets,\n\u001b[1;32m     11\u001b[0m     organism\u001b[38;5;241m=\u001b[39m\u001b[38;5;124m\"\u001b[39m\u001b[38;5;124mHuman\u001b[39m\u001b[38;5;124m\"\u001b[39m,\n\u001b[1;32m     12\u001b[0m     no_plot\u001b[38;5;241m=\u001b[39m\u001b[38;5;28;01mTrue\u001b[39;00m,\n\u001b[1;32m     13\u001b[0m     threads\u001b[38;5;241m=\u001b[39m\u001b[38;5;241m20\u001b[39m,\n\u001b[1;32m     14\u001b[0m )\n\u001b[1;32m     16\u001b[0m dotplot(df\u001b[38;5;241m.\u001b[39mres2d,\n\u001b[1;32m     17\u001b[0m         column\u001b[38;5;241m=\u001b[39m\u001b[38;5;124m\"\u001b[39m\u001b[38;5;124mFDR q-val\u001b[39m\u001b[38;5;124m\"\u001b[39m,\n\u001b[1;32m     18\u001b[0m         title\u001b[38;5;241m=\u001b[39m\u001b[38;5;124m'\u001b[39m\u001b[38;5;124mKEGG_2016\u001b[39m\u001b[38;5;124m'\u001b[39m,\n\u001b[1;32m     19\u001b[0m         size\u001b[38;5;241m=\u001b[39m\u001b[38;5;241m6\u001b[39m, \u001b[38;5;66;03m# adjust dot size\u001b[39;00m\n\u001b[1;32m     20\u001b[0m         figsize\u001b[38;5;241m=\u001b[39m(\u001b[38;5;241m4\u001b[39m,\u001b[38;5;241m5\u001b[39m), cutoff\u001b[38;5;241m=\u001b[39m\u001b[38;5;241m0.25\u001b[39m, show_ring\u001b[38;5;241m=\u001b[39m\u001b[38;5;28;01mFalse\u001b[39;00m);\n",
      "\u001b[0;31mNameError\u001b[0m: name 'H' is not defined"
     ]
    }
   ],
   "source": [
    "from gseapy import prerank, dotplot\n",
    "\n",
    "geneSets = [\n",
    "    \"GO_Biological_Process_2021\",\n",
    "    \"GO_Cellular_Component_2021\",\n",
    "]\n",
    "\n",
    "df = prerank(\n",
    "    pd.Series(H[:, 19], index=X.var_names),\n",
    "    gene_sets=geneSets,\n",
    "    organism=\"Human\",\n",
    "    no_plot=True,\n",
    "    threads=20,\n",
    ")\n",
    "\n",
    "dotplot(\n",
    "    df.res2d,\n",
    "    column=\"FDR q-val\",\n",
    "    title=\"KEGG_2016\",\n",
    "    size=6,  # adjust dot size\n",
    "    figsize=(4, 5),\n",
    "    cutoff=0.25,\n",
    "    show_ring=False,\n",
    ");"
   ]
  },
  {
   "cell_type": "code",
   "execution_count": null,
   "metadata": {},
   "outputs": [],
   "source": [
    "df.res2d.loc[df.res2d[\"FDR q-val\"] < 0.1, :]"
   ]
  },
  {
   "cell_type": "code",
   "execution_count": null,
   "metadata": {},
   "outputs": [],
   "source": [
    "pd.Series(H[:, 20], index=X.var_names).sort_values(ascending=False).head(20)"
   ]
  }
 ],
 "metadata": {
  "kernelspec": {
   "display_name": "pf2barcode-Hbu_9TGN-py3.12",
   "language": "python",
   "name": "python3"
  },
  "language_info": {
   "codemirror_mode": {
    "name": "ipython",
    "version": 3
   },
   "file_extension": ".py",
   "mimetype": "text/x-python",
   "name": "python",
   "nbconvert_exporter": "python",
   "pygments_lexer": "ipython3",
   "version": "3.12.3"
  }
 },
 "nbformat": 4,
 "nbformat_minor": 2
}
